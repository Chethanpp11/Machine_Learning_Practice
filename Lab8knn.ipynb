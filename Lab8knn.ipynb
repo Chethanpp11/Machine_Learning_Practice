{
 "cells": [
  {
   "cell_type": "code",
   "execution_count": 1,
   "id": "83d54d88-0dec-4403-a3ce-021bfdd8b30d",
   "metadata": {},
   "outputs": [],
   "source": [
    "from sklearn.model_selection import train_test_split\n",
    "from sklearn.neighbors import KNeighborsClassifier\n",
    "from sklearn.metrics import classification_report\n",
    "from sklearn.metrics import confusion_matrix\n",
    "from sklearn import metrics\n",
    "import pandas as pd\n",
    "import numpy as np\n",
    "from sklearn import datasets"
   ]
  },
  {
   "cell_type": "code",
   "execution_count": 2,
   "id": "9577a231-1eeb-4fc6-8a3e-5a3dd767dae2",
   "metadata": {},
   "outputs": [],
   "source": [
    "iris=datasets.load_iris()\n",
    "x=iris.data\n",
    "y=iris.target"
   ]
  },
  {
   "cell_type": "code",
   "execution_count": 3,
   "id": "f2da58ed-4cb9-4a72-a7c6-8cf268c73aed",
   "metadata": {},
   "outputs": [
    {
     "name": "stdout",
     "output_type": "stream",
     "text": [
      "[0 2 0 2 0 1 2 2 0 1 0 0 2 0 2 1 2 0 0 1 2 1 2 2 1 1 1 1 0 1]\n"
     ]
    }
   ],
   "source": [
    "x_train, x_test, y_train, y_test=(train_test_split(x, y,\n",
    "test_size=0.20))\n",
    "classifier=KNeighborsClassifier(n_neighbors=6)\n",
    "classifier.fit(x_train, y_train)\n",
    "y_pred=classifier.predict(x_test)\n",
    "print(y_pred)"
   ]
  },
  {
   "cell_type": "code",
   "execution_count": 4,
   "id": "ec1f3da5-f887-42de-b49e-8af02dab7288",
   "metadata": {},
   "outputs": [
    {
     "name": "stdout",
     "output_type": "stream",
     "text": [
      "accuracy is\n",
      "              precision    recall  f1-score   support\n",
      "\n",
      "           0       1.00      1.00      1.00        10\n",
      "           1       0.70      1.00      0.82         7\n",
      "           2       1.00      0.77      0.87        13\n",
      "\n",
      "    accuracy                           0.90        30\n",
      "   macro avg       0.90      0.92      0.90        30\n",
      "weighted avg       0.93      0.90      0.90        30\n",
      "\n",
      "Confusion Matrix\n",
      "[[10  0  0]\n",
      " [ 0  7  0]\n",
      " [ 0  3 10]]\n"
     ]
    },
    {
     "data": {
      "text/plain": [
       "<sklearn.metrics._plot.confusion_matrix.ConfusionMatrixDisplay at 0x2279f0c3470>"
      ]
     },
     "execution_count": 4,
     "metadata": {},
     "output_type": "execute_result"
    },
    {
     "data": {
      "image/png": "[encoded data removed]",
      "text/plain": [
       "<Figure size 640x480 with 2 Axes>"
      ]
     },
     "metadata": {},
     "output_type": "display_data"
    }
   ],
   "source": [
    "print(\"accuracy is\")\n",
    "print(classification_report(y_test, y_pred))\n",
    "print('Confusion Matrix')\n",
    "cm = confusion_matrix(y_test,y_pred)\n",
    "print(cm)\n",
    "disp = metrics.ConfusionMatrixDisplay(confusion_matrix=cm)\n",
    "disp.plot()"
   ]
  }
 ],
 "metadata": {
  "kernelspec": {
   "display_name": "Python 3 (ipykernel)",
   "language": "python",
   "name": "python3"
  },
  "language_info": {
   "codemirror_mode": {
    "name": "ipython",
    "version": 3
   },
   "file_extension": ".py",
   "mimetype": "text/x-python",
   "name": "python",
   "nbconvert_exporter": "python",
   "pygments_lexer": "ipython3",
   "version": "3.12.3"
  }
 },
 "nbformat": 4,
 "nbformat_minor": 5
}
