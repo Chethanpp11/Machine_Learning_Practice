{
 "cells": [
  {
   "cell_type": "code",
   "execution_count": 7,
   "id": "33e66208-a08b-4b2c-8a0c-671d5c60d703",
   "metadata": {},
   "outputs": [],
   "source": [
    "import csv"
   ]
  },
  {
   "cell_type": "code",
   "execution_count": 8,
   "id": "cff7161c-cab7-46d9-ae44-116cff4ac693",
   "metadata": {},
   "outputs": [],
   "source": [
    "a = []"
   ]
  },
  {
   "cell_type": "code",
   "execution_count": 9,
   "id": "a2e319c6-fdb4-4921-900c-97734a439097",
   "metadata": {
    "scrolled": true
   },
   "outputs": [
    {
     "name": "stdout",
     "output_type": "stream",
     "text": [
      "The given training dataset: \n",
      "['Eyes', 'Nose', 'Head', 'Fcolor', 'Hair', 'Smile']\n",
      "['Round', 'Triangle', 'Round', 'Purple', 'Yes', 'Yes']\n",
      "['Square', 'Square', 'Square', 'Green', 'Yes', 'No']\n",
      "['Square', 'Triangle', 'Round', 'Yellow', 'Yes', 'Yes']\n",
      "['Round', 'Triangle', 'Round', 'Green', 'No', 'No']\n",
      "['Square', 'Square', 'Round', 'Yellow', 'Yes', 'Yes']\n"
     ]
    }
   ],
   "source": [
    "print(\"The given training dataset: \")\n",
    "with open('Datasets/Eyes.csv') as csvfile:\n",
    "    reader = csv.reader(csvfile)\n",
    "    for row in reader:\n",
    "        a.append(row)\n",
    "        print(row)\n",
    "num_attributes = len(a[0])-1"
   ]
  },
  {
   "cell_type": "code",
   "execution_count": 10,
   "id": "ac2834c5-051a-4fe1-ac87-dbc55fa09676",
   "metadata": {
    "scrolled": true
   },
   "outputs": [
    {
     "name": "stdout",
     "output_type": "stream",
     "text": [
      "The initial value of hypothesis: \n",
      "['0', '0', '0', '0', '0']\n"
     ]
    }
   ],
   "source": [
    "print(\"The initial value of hypothesis: \")\n",
    "hypothesis = ['0'] * num_attributes\n",
    "print(hypothesis)"
   ]
  },
  {
   "cell_type": "code",
   "execution_count": 13,
   "id": "fc222020-608b-4346-9c6a-fc71bc7a4ff7",
   "metadata": {
    "scrolled": true
   },
   "outputs": [
    {
     "name": "stdout",
     "output_type": "stream",
     "text": [
      "Find-S: Finding a maximally specific hypothesis: \n",
      "\n",
      "For training instance no:0 the hypothesis is:\n",
      " ['Round', 'Triangle', 'Round', 'Purple', 'Yes']\n",
      "\n",
      "For training instance no:1 the hypothesis is:\n",
      " ['Round', 'Triangle', 'Round', 'Purple', 'Yes']\n",
      "\n",
      "For training instance no:2 the hypothesis is:\n",
      " ['Round', 'Triangle', 'Round', 'Purple', 'Yes']\n",
      "\n",
      "For training instance no:3 the hypothesis is:\n",
      " ['?', 'Triangle', 'Round', '?', 'Yes']\n",
      "\n",
      "For training instance no:4 the hypothesis is:\n",
      " ['?', 'Triangle', 'Round', '?', 'Yes']\n",
      "\n",
      "For training instance no:5 the hypothesis is:\n",
      " ['?', '?', 'Round', '?', 'Yes']\n",
      "\n",
      "The maximally specific hypothesis for a given training example:\n",
      "['?', '?', 'Round', '?', 'Yes']\n"
     ]
    }
   ],
   "source": [
    "for j in range(0, num_attributes):\n",
    "    hypothesis[j] = a[1][j]\n",
    "print(\"Find-S: Finding a maximally specific hypothesis: \")\n",
    "for i in range(0, len(a)):\n",
    "    if a[i][num_attributes] == 'Yes':\n",
    "        for j in range(0, num_attributes):\n",
    "            if a[i][j] != hypothesis[j]:\n",
    "                hypothesis[j] = '?'\n",
    "            else:\n",
    "                hypothesis[j] = a[i][j]\n",
    "    print(\"\\nFor training instance no:{0} the hypothesis is:\\n\".format(i), hypothesis)\n",
    "print(\"\\nThe maximally specific hypothesis for a given training example:\")\n",
    "print(hypothesis)"
   ]
  },
  {
   "cell_type": "code",
   "execution_count": null,
   "id": "1eb31fe7-51ce-44f4-9826-f844d20e27e0",
   "metadata": {},
   "outputs": [],
   "source": []
  }
 ],
 "metadata": {
  "kernelspec": {
   "display_name": "Python 3 (ipykernel)",
   "language": "python",
   "name": "python3"
  },
  "language_info": {
   "codemirror_mode": {
    "name": "ipython",
    "version": 3
   },
   "file_extension": ".py",
   "mimetype": "text/x-python",
   "name": "python",
   "nbconvert_exporter": "python",
   "pygments_lexer": "ipython3",
   "version": "3.12.3"
  }
 },
 "nbformat": 4,
 "nbformat_minor": 5
}
